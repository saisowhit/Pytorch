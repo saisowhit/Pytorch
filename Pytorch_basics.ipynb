{
  "nbformat": 4,
  "nbformat_minor": 0,
  "metadata": {
    "colab": {
      "provenance": []
    },
    "kernelspec": {
      "name": "python3",
      "display_name": "Python 3"
    },
    "language_info": {
      "name": "python"
    }
  },
  "cells": [
    {
      "cell_type": "code",
      "execution_count": 23,
      "metadata": {
        "colab": {
          "base_uri": "https://localhost:8080/"
        },
        "id": "-Ljqx4EH60AB",
        "outputId": "b73b8123-4132-4432-e232-69443f9b866e"
      },
      "outputs": [
        {
          "output_type": "stream",
          "name": "stdout",
          "text": [
            "torch.float32\n"
          ]
        }
      ],
      "source": [
        "import torch\n",
        "device=\"cuda\" if torch.cuda.is_available() else \"cpu\"\n",
        "my_tensor=torch.tensor([[1,2,3],[4,5,6]],dtype=torch.float32,device=device,requires_grad=True)\n",
        "print(my_tensor.dtype)"
      ]
    },
    {
      "cell_type": "code",
      "source": [
        "print(my_tensor)\n",
        "print(my_tensor.shape)\n",
        "print(my_tensor.requires_grad)\n",
        "x=torch.empty(size=(2,3))\n",
        "x=torch.zeros((3,3))\n",
        "x=torch.randn((3,3))\n",
        "# x=torch.eye((3,3))\n",
        "# x=torch.linspace(start=0.1,end=1,step=10) ## it will have 10 values\n",
        "# x=torch.empty(size=(1,5)).normal(mean=0,std=1)\n",
        "x=torch.diag(torch.ones(3))\n",
        "## converting tensors to other types\n",
        "tensor=torch.arange(4)\n",
        "print(tensor.bool())\n",
        "print(tensor.short())\n",
        "print(tensor.long())\n",
        "print(tensor.half())\n"
      ],
      "metadata": {
        "colab": {
          "base_uri": "https://localhost:8080/"
        },
        "id": "gS5y_h2j64o5",
        "outputId": "15267c51-c2d7-4953-b5f3-1d65ae6da24a"
      },
      "execution_count": 24,
      "outputs": [
        {
          "output_type": "stream",
          "name": "stdout",
          "text": [
            "tensor([[1., 2., 3.],\n",
            "        [4., 5., 6.]], requires_grad=True)\n",
            "torch.Size([2, 3])\n",
            "True\n",
            "tensor([False,  True,  True,  True])\n",
            "tensor([0, 1, 2, 3], dtype=torch.int16)\n",
            "tensor([0, 1, 2, 3])\n",
            "tensor([0., 1., 2., 3.], dtype=torch.float16)\n"
          ]
        }
      ]
    },
    {
      "cell_type": "code",
      "source": [
        "## Array to tensor conversion and vice versa"
      ],
      "metadata": {
        "id": "oZ5VgCf4IEUW"
      },
      "execution_count": 25,
      "outputs": []
    },
    {
      "cell_type": "code",
      "source": [
        "import numpy as np\n",
        "np_array=np.zeros((5,5))\n",
        "tensor=torch.from_numpy(np_array)\n",
        "np_array_back=tensor.numpy()\n",
        "np_array_back"
      ],
      "metadata": {
        "colab": {
          "base_uri": "https://localhost:8080/"
        },
        "id": "yrCN2gaaIHPV",
        "outputId": "04ee8391-6134-4cd9-cfa0-8c349a9c0f8d"
      },
      "execution_count": 26,
      "outputs": [
        {
          "output_type": "execute_result",
          "data": {
            "text/plain": [
              "array([[0., 0., 0., 0., 0.],\n",
              "       [0., 0., 0., 0., 0.],\n",
              "       [0., 0., 0., 0., 0.],\n",
              "       [0., 0., 0., 0., 0.],\n",
              "       [0., 0., 0., 0., 0.]])"
            ]
          },
          "metadata": {},
          "execution_count": 26
        }
      ]
    },
    {
      "cell_type": "code",
      "source": [
        "import torch\n",
        "x=torch.tensor([1,2,3])\n",
        "y=torch.tensor([9,8,7])\n",
        "z1=torch.empty(3)\n",
        "t=torch.add(x,y,out=z1)\n",
        "t=t+x\n",
        "print(t)"
      ],
      "metadata": {
        "colab": {
          "base_uri": "https://localhost:8080/"
        },
        "id": "vRps2ngfIXEU",
        "outputId": "0c862528-baa9-4297-e99d-93ffeffd6a67"
      },
      "execution_count": 27,
      "outputs": [
        {
          "output_type": "stream",
          "name": "stdout",
          "text": [
            "tensor([11., 12., 13.])\n"
          ]
        }
      ]
    },
    {
      "cell_type": "code",
      "source": [
        "z1=torch.empty(3)\n",
        "torch.add(x,y,out=z1)"
      ],
      "metadata": {
        "colab": {
          "base_uri": "https://localhost:8080/"
        },
        "id": "SWzF4i-u4vLS",
        "outputId": "cbbe1893-08d6-41b8-d0ed-28daa5747afc"
      },
      "execution_count": 28,
      "outputs": [
        {
          "output_type": "execute_result",
          "data": {
            "text/plain": [
              "tensor([10., 10., 10.])"
            ]
          },
          "metadata": {},
          "execution_count": 28
        }
      ]
    },
    {
      "cell_type": "code",
      "source": [
        "z=torch.add(x,y)\n",
        "z=x+y\n",
        "z"
      ],
      "metadata": {
        "colab": {
          "base_uri": "https://localhost:8080/"
        },
        "id": "SPGhRJwH42zo",
        "outputId": "0172c195-11f7-41b4-f3a5-d22735cc6877"
      },
      "execution_count": 29,
      "outputs": [
        {
          "output_type": "execute_result",
          "data": {
            "text/plain": [
              "tensor([10, 10, 10])"
            ]
          },
          "metadata": {},
          "execution_count": 29
        }
      ]
    },
    {
      "cell_type": "code",
      "source": [
        "z2=torch.add(x,y)\n",
        "z2=x+y\n",
        "z2"
      ],
      "metadata": {
        "colab": {
          "base_uri": "https://localhost:8080/"
        },
        "id": "cj_9Ay595DnJ",
        "outputId": "12c1b4a2-0d03-4725-cb47-5911472dab08"
      },
      "execution_count": 30,
      "outputs": [
        {
          "output_type": "execute_result",
          "data": {
            "text/plain": [
              "tensor([10, 10, 10])"
            ]
          },
          "metadata": {},
          "execution_count": 30
        }
      ]
    },
    {
      "cell_type": "code",
      "source": [
        "## exponentatioin"
      ],
      "metadata": {
        "id": "r5k3uw9r5Yd_"
      },
      "execution_count": 31,
      "outputs": []
    },
    {
      "cell_type": "code",
      "source": [
        "z=x.pow(2)\n",
        "z"
      ],
      "metadata": {
        "colab": {
          "base_uri": "https://localhost:8080/"
        },
        "id": "qPQYVAdC5ZqC",
        "outputId": "6232cd24-d567-4519-9374-d74cc6f137d8"
      },
      "execution_count": 32,
      "outputs": [
        {
          "output_type": "execute_result",
          "data": {
            "text/plain": [
              "tensor([1, 4, 9])"
            ]
          },
          "metadata": {},
          "execution_count": 32
        }
      ]
    },
    {
      "cell_type": "code",
      "source": [
        "z=x.pow(2)\n",
        "z"
      ],
      "metadata": {
        "colab": {
          "base_uri": "https://localhost:8080/"
        },
        "id": "xfkUIWWl5ctu",
        "outputId": "eafff13b-ff7c-4304-a1b9-5781d7c495ff"
      },
      "execution_count": 33,
      "outputs": [
        {
          "output_type": "execute_result",
          "data": {
            "text/plain": [
              "tensor([1, 4, 9])"
            ]
          },
          "metadata": {},
          "execution_count": 33
        }
      ]
    },
    {
      "cell_type": "code",
      "source": [
        "## Simple comparsion"
      ],
      "metadata": {
        "id": "Vf73uDlr5kQp"
      },
      "execution_count": 34,
      "outputs": []
    },
    {
      "cell_type": "code",
      "source": [
        "z=x>0\n",
        "print(z)"
      ],
      "metadata": {
        "colab": {
          "base_uri": "https://localhost:8080/"
        },
        "id": "TkltV5xJ5luw",
        "outputId": "bfa0cbaa-f3e6-48d8-b1b9-8824e9031eef"
      },
      "execution_count": 35,
      "outputs": [
        {
          "output_type": "stream",
          "name": "stdout",
          "text": [
            "tensor([True, True, True])\n"
          ]
        }
      ]
    },
    {
      "cell_type": "code",
      "source": [
        "z=x<0\n",
        "print(z)"
      ],
      "metadata": {
        "colab": {
          "base_uri": "https://localhost:8080/"
        },
        "id": "bvOboIX35ofs",
        "outputId": "b40199c6-cf18-4169-9dab-1818dd1ff0a5"
      },
      "execution_count": 36,
      "outputs": [
        {
          "output_type": "stream",
          "name": "stdout",
          "text": [
            "tensor([False, False, False])\n"
          ]
        }
      ]
    },
    {
      "cell_type": "code",
      "source": [
        "## matrix multiplication"
      ],
      "metadata": {
        "id": "1j8NhnqL5s85"
      },
      "execution_count": 37,
      "outputs": []
    },
    {
      "cell_type": "code",
      "source": [
        "x1=torch.rand((2,5))\n",
        "x=torch.rand((5,3))\n",
        "x2=torch.rand(3,3)\n",
        "x3=torch.mm(x1,x)\n",
        "x3=x1.mm(x)\n",
        "x3"
      ],
      "metadata": {
        "colab": {
          "base_uri": "https://localhost:8080/"
        },
        "id": "Whkxjjcs5ujp",
        "outputId": "41f8130d-9524-4733-da70-f83beb0bd0e0"
      },
      "execution_count": 38,
      "outputs": [
        {
          "output_type": "execute_result",
          "data": {
            "text/plain": [
              "tensor([[1.5605, 1.0609, 1.4386],\n",
              "        [0.8612, 0.4286, 0.7490]])"
            ]
          },
          "metadata": {},
          "execution_count": 38
        }
      ]
    },
    {
      "cell_type": "code",
      "source": [
        "## matrix exponentation"
      ],
      "metadata": {
        "id": "7b3Fq8mt56Nk"
      },
      "execution_count": 39,
      "outputs": []
    },
    {
      "cell_type": "code",
      "source": [
        "matrix_expo=torch.rand(5,5)\n",
        "print(matrix_expo)\n",
        "print(matrix_expo.matrix_power(3))"
      ],
      "metadata": {
        "colab": {
          "base_uri": "https://localhost:8080/"
        },
        "id": "TqASpZv4571W",
        "outputId": "4125cafa-9952-4d97-b70a-c4583d83a6cf"
      },
      "execution_count": 40,
      "outputs": [
        {
          "output_type": "stream",
          "name": "stdout",
          "text": [
            "tensor([[0.8387, 0.5016, 0.3348, 0.2496, 0.2596],\n",
            "        [0.9293, 0.4777, 0.0418, 0.6805, 0.5967],\n",
            "        [0.1483, 0.7720, 0.1188, 0.0452, 0.0540],\n",
            "        [0.9501, 0.9785, 0.1435, 0.6971, 0.8636],\n",
            "        [0.9208, 0.5552, 0.5266, 0.3697, 0.7113]])\n",
            "tensor([[4.3681, 3.2090, 1.2958, 2.2645, 2.6350],\n",
            "        [6.3569, 4.7000, 1.9641, 3.2561, 3.8774],\n",
            "        [2.5092, 1.7994, 0.7556, 1.3054, 1.5673],\n",
            "        [8.3899, 6.1939, 2.5975, 4.3005, 5.1420],\n",
            "        [6.2742, 4.6457, 1.8861, 3.2455, 3.7962]])\n"
          ]
        }
      ]
    },
    {
      "cell_type": "code",
      "source": [
        "torch.matrix_exp(matrix_expo)"
      ],
      "metadata": {
        "colab": {
          "base_uri": "https://localhost:8080/"
        },
        "id": "bawx4uoi6D7J",
        "outputId": "d763eb07-05f0-46f1-d1b7-9647d7cd2995"
      },
      "execution_count": 41,
      "outputs": [
        {
          "output_type": "execute_result",
          "data": {
            "text/plain": [
              "tensor([[4.3069, 2.3476, 1.0788, 1.5050, 1.7097],\n",
              "        [4.5038, 4.0836, 1.1392, 2.5211, 2.8056],\n",
              "        [1.5565, 1.7557, 1.4674, 0.8367, 0.9198],\n",
              "        [5.6612, 4.3882, 1.5654, 4.1573, 3.7948],\n",
              "        [4.4381, 3.2218, 1.6420, 2.1494, 3.8385]])"
            ]
          },
          "metadata": {},
          "execution_count": 41
        }
      ]
    },
    {
      "cell_type": "code",
      "source": [
        "matrix_expo.matrix_power(3)\n"
      ],
      "metadata": {
        "colab": {
          "base_uri": "https://localhost:8080/"
        },
        "id": "JfHMzmNH6Npx",
        "outputId": "799ea880-1439-49e5-bb40-a43c4fea2904"
      },
      "execution_count": 42,
      "outputs": [
        {
          "output_type": "execute_result",
          "data": {
            "text/plain": [
              "tensor([[4.3681, 3.2090, 1.2958, 2.2645, 2.6350],\n",
              "        [6.3569, 4.7000, 1.9641, 3.2561, 3.8774],\n",
              "        [2.5092, 1.7994, 0.7556, 1.3054, 1.5673],\n",
              "        [8.3899, 6.1939, 2.5975, 4.3005, 5.1420],\n",
              "        [6.2742, 4.6457, 1.8861, 3.2455, 3.7962]])"
            ]
          },
          "metadata": {},
          "execution_count": 42
        }
      ]
    },
    {
      "cell_type": "code",
      "source": [
        "## element wise mult"
      ],
      "metadata": {
        "id": "d9MAPXME6YIC"
      },
      "execution_count": 43,
      "outputs": []
    },
    {
      "cell_type": "code",
      "source": [
        "# z=torch.dot(x,y)\n",
        "# print(z)"
      ],
      "metadata": {
        "id": "AHo3JSIT6ZnK"
      },
      "execution_count": 77,
      "outputs": []
    },
    {
      "cell_type": "code",
      "source": [
        "## batch matrix multiplication"
      ],
      "metadata": {
        "id": "kEEILgSF6mSD"
      },
      "execution_count": null,
      "outputs": []
    },
    {
      "cell_type": "code",
      "source": [
        "batch=32\n",
        "n=10\n",
        "m=20\n",
        "p=30\n",
        "tensor1=torch.randn((batch,n,m))\n",
        "tensor1"
      ],
      "metadata": {
        "colab": {
          "base_uri": "https://localhost:8080/"
        },
        "id": "I-IlSKQ26oQI",
        "outputId": "22e55154-fdb1-4b0c-893f-09ed7bfadf90"
      },
      "execution_count": 45,
      "outputs": [
        {
          "output_type": "execute_result",
          "data": {
            "text/plain": [
              "tensor([[[ 1.4262, -0.0878,  0.3358,  ..., -1.7386, -0.1177, -1.8704],\n",
              "         [-0.6868, -1.3015, -1.7572,  ..., -0.1168, -0.5959, -0.2452],\n",
              "         [ 1.2355,  1.2589, -1.3399,  ..., -1.5731,  0.0188, -0.1464],\n",
              "         ...,\n",
              "         [ 1.0111, -0.4833,  0.9695,  ..., -0.2995,  1.1992, -1.2961],\n",
              "         [ 1.7048, -1.2583, -1.1777,  ..., -0.2523, -0.2838,  1.7275],\n",
              "         [ 2.0491,  0.3591,  0.5070,  ..., -0.1456, -0.2150, -0.9697]],\n",
              "\n",
              "        [[ 0.8888, -1.0564,  0.5157,  ..., -0.7551, -0.3911, -0.4300],\n",
              "         [-0.7718, -0.0824, -0.7117,  ..., -0.6548, -2.3780,  0.6925],\n",
              "         [ 0.1571, -0.4180, -0.6266,  ..., -0.8607,  1.6041, -0.4082],\n",
              "         ...,\n",
              "         [ 0.3266, -0.9213, -1.5340,  ..., -1.1714,  0.0649, -1.7951],\n",
              "         [-1.2065, -0.4344,  0.5502,  ..., -0.0098, -2.4618, -2.3853],\n",
              "         [-0.6478,  0.8037,  0.9063,  ..., -0.0478,  0.6766,  0.6604]],\n",
              "\n",
              "        [[-0.7948,  0.9713, -0.0418,  ..., -0.2763,  0.8705, -0.2645],\n",
              "         [-1.8028,  0.2236,  1.8168,  ...,  2.4389,  1.2046, -0.6560],\n",
              "         [-1.9230, -1.0711, -0.9936,  ..., -2.6477, -0.5942, -0.2648],\n",
              "         ...,\n",
              "         [ 1.3432, -0.2414,  0.1103,  ...,  0.3545,  2.0813,  0.3337],\n",
              "         [ 0.1491, -0.8222, -1.4397,  ..., -1.8144, -0.7176,  1.3464],\n",
              "         [ 0.0766,  1.5072, -0.4152,  ..., -1.3462,  0.5336, -0.2723]],\n",
              "\n",
              "        ...,\n",
              "\n",
              "        [[-2.1775,  0.4287, -0.1265,  ..., -0.6872,  0.5395, -0.7497],\n",
              "         [-0.4613, -0.6189, -0.6575,  ...,  0.0688, -0.6155,  1.6883],\n",
              "         [ 0.7901,  0.7086,  0.4369,  ...,  0.9924,  0.3022,  0.9291],\n",
              "         ...,\n",
              "         [ 0.4377,  0.0823,  1.3356,  ...,  0.1320, -1.2510,  0.1920],\n",
              "         [ 1.7580,  1.2991,  0.1089,  ...,  0.0125, -0.3580, -0.0923],\n",
              "         [ 0.1761,  1.7908,  0.6643,  ..., -0.7719,  1.0243, -0.9626]],\n",
              "\n",
              "        [[-0.7693,  0.7350,  0.7312,  ..., -0.6446,  0.3607, -0.5876],\n",
              "         [-1.1158, -1.5027,  0.4350,  ...,  0.0766,  1.0760, -0.6799],\n",
              "         [-2.1007,  1.8706,  1.2395,  ...,  0.3801, -0.1226, -0.2456],\n",
              "         ...,\n",
              "         [-0.1123, -0.4601, -0.8892,  ..., -0.4532, -0.3522,  1.8070],\n",
              "         [-1.7768, -3.0907, -0.8006,  ...,  1.7424, -0.3529,  0.5041],\n",
              "         [-0.2833, -1.6004,  0.2167,  ..., -2.1627, -1.4974, -1.4893]],\n",
              "\n",
              "        [[ 0.2088, -0.9305, -0.4482,  ..., -2.2366, -0.6011, -1.7890],\n",
              "         [-0.2857, -0.0314, -2.5215,  ..., -0.2412, -3.1390,  0.8677],\n",
              "         [ 0.2723,  0.0649,  0.6479,  ..., -0.0518,  0.2664, -0.6065],\n",
              "         ...,\n",
              "         [ 0.0512, -1.2842, -0.9429,  ...,  0.1559, -1.0305, -1.0133],\n",
              "         [ 0.9140, -0.1093, -0.4541,  ..., -0.6232,  1.1765, -0.2291],\n",
              "         [-0.4370, -0.9458,  0.3873,  ...,  1.0659, -1.3574,  3.1328]]])"
            ]
          },
          "metadata": {},
          "execution_count": 45
        }
      ]
    },
    {
      "cell_type": "code",
      "source": [
        "torch.bmm(tensor1,tensor1.transpose(1,2)) ##(batch,n,m,p)"
      ],
      "metadata": {
        "id": "H9kfB3_i_Gny"
      },
      "execution_count": null,
      "outputs": []
    },
    {
      "cell_type": "code",
      "source": [
        "# examples of broadcasting"
      ],
      "metadata": {
        "id": "Z965HRlD_SXH"
      },
      "execution_count": null,
      "outputs": []
    },
    {
      "cell_type": "code",
      "source": [
        "x1=torch.randn((5,5))\n",
        "x2=torch.randn((1,5))\n",
        "z=x1-x2\n",
        "z_multiplication=x1**x2\n",
        "z_multiplication"
      ],
      "metadata": {
        "colab": {
          "base_uri": "https://localhost:8080/"
        },
        "id": "RSGc5KQV_T6k",
        "outputId": "a9745699-e7c7-4a1c-f8c4-8a72b830b3b3"
      },
      "execution_count": 46,
      "outputs": [
        {
          "output_type": "execute_result",
          "data": {
            "text/plain": [
              "tensor([[   nan,    nan,    nan, 0.9709, 1.1315],\n",
              "        [   nan,    nan, 0.9204, 1.0312, 0.2260],\n",
              "        [   nan,    nan, 1.1046,    nan,    nan],\n",
              "        [1.1664, 1.7129, 0.9447, 0.8822,    nan],\n",
              "        [2.6182, 0.9813,    nan,    nan, 0.1340]])"
            ]
          },
          "metadata": {},
          "execution_count": 46
        }
      ]
    },
    {
      "cell_type": "code",
      "source": [
        "## other useful tensor operations"
      ],
      "metadata": {
        "id": "f2YDt_0v_shI"
      },
      "execution_count": null,
      "outputs": []
    },
    {
      "cell_type": "code",
      "source": [
        "sum_x=torch.sum(x,dim=0)\n",
        "values,indices=torch.max(x,dim=0)\n",
        "values,indices=torch.min(x,dim=0)\n",
        "abs_x=torch.abs(x)\n",
        "z=torch.argmax(x,dim=0)\n",
        "z=torch.argmin(x,dim=0)\n",
        "print(z)"
      ],
      "metadata": {
        "colab": {
          "base_uri": "https://localhost:8080/"
        },
        "id": "i5D4Uqoq_u8C",
        "outputId": "c3b4420b-8cf3-4805-c657-4f543f821916"
      },
      "execution_count": 47,
      "outputs": [
        {
          "output_type": "stream",
          "name": "stdout",
          "text": [
            "tensor([3, 2, 3])\n"
          ]
        }
      ]
    },
    {
      "cell_type": "code",
      "source": [
        "## other useful tensor operations"
      ],
      "metadata": {
        "id": "CsVF3NacBAuK"
      },
      "execution_count": null,
      "outputs": []
    },
    {
      "cell_type": "code",
      "source": [
        "sum_x=torch.sum(x,dim=0)\n",
        "values,indices=torch.max(x,dim=0)\n",
        "values,indices=torch.min(x,dim=0)\n",
        "abs_x=torch.abs(x)\n",
        "print(abs_x)"
      ],
      "metadata": {
        "colab": {
          "base_uri": "https://localhost:8080/"
        },
        "id": "chSo5udVBCwz",
        "outputId": "867fe22d-74bd-4190-c016-76c670f7250f"
      },
      "execution_count": 48,
      "outputs": [
        {
          "output_type": "stream",
          "name": "stdout",
          "text": [
            "tensor([[0.8492, 0.6314, 0.9738],\n",
            "        [0.8869, 0.6603, 0.4167],\n",
            "        [0.4561, 0.0427, 0.5487],\n",
            "        [0.0437, 0.1062, 0.1639],\n",
            "        [0.8229, 0.3561, 0.4957]])\n"
          ]
        }
      ]
    },
    {
      "cell_type": "code",
      "source": [
        "z=torch.eq(x,y)\n",
        "z"
      ],
      "metadata": {
        "colab": {
          "base_uri": "https://localhost:8080/"
        },
        "id": "U1QZ31lRHqHf",
        "outputId": "9d2d2517-af8b-4642-ee21-4179b099956f"
      },
      "execution_count": 49,
      "outputs": [
        {
          "output_type": "execute_result",
          "data": {
            "text/plain": [
              "tensor([[False, False, False],\n",
              "        [False, False, False],\n",
              "        [False, False, False],\n",
              "        [False, False, False],\n",
              "        [False, False, False]])"
            ]
          },
          "metadata": {},
          "execution_count": 49
        }
      ]
    },
    {
      "cell_type": "code",
      "source": [
        "sorted,y_indices=torch.sort(y,dim=0,descending=False)"
      ],
      "metadata": {
        "id": "qC7sj840Hu11"
      },
      "execution_count": 51,
      "outputs": []
    },
    {
      "cell_type": "code",
      "source": [
        "z=torch.clamp(x,min=0)"
      ],
      "metadata": {
        "id": "n2BBQcRdHw2U"
      },
      "execution_count": 50,
      "outputs": []
    },
    {
      "cell_type": "code",
      "source": [
        "## Tensor Indexing"
      ],
      "metadata": {
        "id": "7SoehwStJORh"
      },
      "execution_count": null,
      "outputs": []
    },
    {
      "cell_type": "code",
      "source": [
        "batch_size=25\n",
        "features=25\n",
        "x=torch.randn((batch_size,features))\n",
        "print(x[0].shape)\n",
        "print(x[:,0].shape)\n",
        "print(x[2,0:10])"
      ],
      "metadata": {
        "colab": {
          "base_uri": "https://localhost:8080/"
        },
        "id": "Pww_cATEJPV1",
        "outputId": "5f273b56-33ff-42c0-9ff2-773313da363e"
      },
      "execution_count": 52,
      "outputs": [
        {
          "output_type": "stream",
          "name": "stdout",
          "text": [
            "torch.Size([25])\n",
            "torch.Size([25])\n",
            "tensor([ 0.0102, -0.1571,  0.9267,  0.3432,  0.5442,  1.0034, -0.7957,  0.8512,\n",
            "        -0.6988, -0.4610])\n"
          ]
        }
      ]
    },
    {
      "cell_type": "code",
      "source": [
        "x[0,0]=100"
      ],
      "metadata": {
        "id": "Go-YlqieJ_hY"
      },
      "execution_count": 53,
      "outputs": []
    },
    {
      "cell_type": "code",
      "source": [
        "x=torch.randn((3,5))\n",
        "rows=torch.tensor([1,0])\n",
        "cols=torch.tensor([4,0])\n",
        "print(x[rows,cols])"
      ],
      "metadata": {
        "colab": {
          "base_uri": "https://localhost:8080/"
        },
        "id": "KUJAt7_SMQyq",
        "outputId": "001a525d-8dac-4040-b92a-62efb741a9ac"
      },
      "execution_count": 54,
      "outputs": [
        {
          "output_type": "stream",
          "name": "stdout",
          "text": [
            "tensor([ 1.0765, -0.2935])\n"
          ]
        }
      ]
    },
    {
      "cell_type": "code",
      "source": [
        "## More advanced indexing"
      ],
      "metadata": {
        "id": "JN3j9ZOQMfdw"
      },
      "execution_count": null,
      "outputs": []
    },
    {
      "cell_type": "code",
      "source": [
        "x=torch.arange(10)\n",
        "print(x)"
      ],
      "metadata": {
        "colab": {
          "base_uri": "https://localhost:8080/"
        },
        "id": "3opW7THHMgv9",
        "outputId": "18627607-522b-4f01-b655-9a2f5d0cb06f"
      },
      "execution_count": 55,
      "outputs": [
        {
          "output_type": "stream",
          "name": "stdout",
          "text": [
            "tensor([0, 1, 2, 3, 4, 5, 6, 7, 8, 9])\n"
          ]
        }
      ]
    },
    {
      "cell_type": "code",
      "source": [
        "print(x[x<2]^x[x>8])"
      ],
      "metadata": {
        "colab": {
          "base_uri": "https://localhost:8080/"
        },
        "id": "Oc7zx4HIMl4h",
        "outputId": "1c3980d4-1d06-4f1f-89c6-3947e4d86f7d"
      },
      "execution_count": 56,
      "outputs": [
        {
          "output_type": "stream",
          "name": "stdout",
          "text": [
            "tensor([9, 8])\n"
          ]
        }
      ]
    },
    {
      "cell_type": "code",
      "source": [
        "print(x[x.remainder(2)==0])"
      ],
      "metadata": {
        "colab": {
          "base_uri": "https://localhost:8080/"
        },
        "id": "lSBgXlP0M0SI",
        "outputId": "1231aa84-9be0-485a-c284-f05c8994b21e"
      },
      "execution_count": 57,
      "outputs": [
        {
          "output_type": "stream",
          "name": "stdout",
          "text": [
            "tensor([0, 2, 4, 6, 8])\n"
          ]
        }
      ]
    },
    {
      "cell_type": "code",
      "source": [
        "## useful operations"
      ],
      "metadata": {
        "id": "zQmaVFZaM4h6"
      },
      "execution_count": null,
      "outputs": []
    },
    {
      "cell_type": "code",
      "source": [
        "print(torch.where(x>5,x,x**2))"
      ],
      "metadata": {
        "colab": {
          "base_uri": "https://localhost:8080/"
        },
        "id": "XcqHoHbeM9TI",
        "outputId": "57bd2f5e-12a8-435e-f364-e7be403d3976"
      },
      "execution_count": 58,
      "outputs": [
        {
          "output_type": "stream",
          "name": "stdout",
          "text": [
            "tensor([ 0,  1,  4,  9, 16, 25,  6,  7,  8,  9])\n"
          ]
        }
      ]
    },
    {
      "cell_type": "code",
      "source": [
        "print(torch.tensor([0,0,0,1,1,2,3,4]).unique())\n",
        "print(x.ndim)\n",
        "print(x.numel)"
      ],
      "metadata": {
        "colab": {
          "base_uri": "https://localhost:8080/"
        },
        "id": "GkgF0EPLNCU1",
        "outputId": "847348a2-ac92-4041-d367-f4eaa781feac"
      },
      "execution_count": 59,
      "outputs": [
        {
          "output_type": "stream",
          "name": "stdout",
          "text": [
            "tensor([0, 1, 2, 3, 4])\n",
            "1\n",
            "<built-in method numel of Tensor object at 0x7e734b112580>\n"
          ]
        }
      ]
    },
    {
      "cell_type": "code",
      "source": [
        "## tensor reshaping"
      ],
      "metadata": {
        "id": "e5ygcxxiWplk"
      },
      "execution_count": null,
      "outputs": []
    },
    {
      "cell_type": "code",
      "source": [
        "import torch\n",
        "x=torch.arange(9)\n",
        "x_3x3=x.reshape(3,3)\n",
        "y=x_3x3.t()\n",
        "y\n",
        "print(y.contiguous().view(9))"
      ],
      "metadata": {
        "colab": {
          "base_uri": "https://localhost:8080/"
        },
        "id": "aY3iNgOcWqpf",
        "outputId": "18fe4cd5-f332-411e-845e-027e2344e432"
      },
      "execution_count": 60,
      "outputs": [
        {
          "output_type": "stream",
          "name": "stdout",
          "text": [
            "tensor([0, 3, 6, 1, 4, 7, 2, 5, 8])\n"
          ]
        }
      ]
    },
    {
      "cell_type": "code",
      "source": [
        "x1=torch.randn((2,2))\n",
        "x2=torch.randn((3,3))"
      ],
      "metadata": {
        "id": "iQgXHydBXK8W"
      },
      "execution_count": 61,
      "outputs": []
    },
    {
      "cell_type": "code",
      "source": [
        "print(y.contiguous().view(9))"
      ],
      "metadata": {
        "colab": {
          "base_uri": "https://localhost:8080/"
        },
        "id": "etkuewKaSnAT",
        "outputId": "046dee9a-140c-470b-915f-4984728a61bc"
      },
      "execution_count": 62,
      "outputs": [
        {
          "output_type": "stream",
          "name": "stdout",
          "text": [
            "tensor([0, 3, 6, 1, 4, 7, 2, 5, 8])\n"
          ]
        }
      ]
    },
    {
      "cell_type": "code",
      "source": [
        "x1=torch.rand((2,5))\n",
        "x2=torch.rand((2,5))\n",
        "print(torch.cat((x1,x2),dim=0).shape)\n",
        "print(torch.cat((x1,x2),dim=1).shape)"
      ],
      "metadata": {
        "colab": {
          "base_uri": "https://localhost:8080/"
        },
        "id": "KCWTWsvxSsh8",
        "outputId": "9ff1e648-f6df-4270-e59a-f501a2b0beb2"
      },
      "execution_count": 65,
      "outputs": [
        {
          "output_type": "stream",
          "name": "stdout",
          "text": [
            "torch.Size([4, 5])\n",
            "torch.Size([2, 10])\n"
          ]
        }
      ]
    },
    {
      "cell_type": "code",
      "source": [
        "z=x1.view(-1)\n",
        "print(z.shape)"
      ],
      "metadata": {
        "colab": {
          "base_uri": "https://localhost:8080/"
        },
        "id": "3GDeB3R1S9Wi",
        "outputId": "d4da24d0-f17c-48c6-bb8b-814562771b49"
      },
      "execution_count": 66,
      "outputs": [
        {
          "output_type": "stream",
          "name": "stdout",
          "text": [
            "torch.Size([10])\n"
          ]
        }
      ]
    },
    {
      "cell_type": "code",
      "source": [
        "batch=64\n",
        "x=torch.rand((batch,2,5))\n",
        "z=x.view(batch,-1)\n",
        "print(z.shape)\n",
        "z=x.permute(0,2,1)"
      ],
      "metadata": {
        "colab": {
          "base_uri": "https://localhost:8080/"
        },
        "id": "97WmcHTeTCcA",
        "outputId": "dcdae6ee-1bf3-4615-f679-2abb26a3a678"
      },
      "execution_count": 68,
      "outputs": [
        {
          "output_type": "stream",
          "name": "stdout",
          "text": [
            "torch.Size([64, 10])\n"
          ]
        }
      ]
    },
    {
      "cell_type": "code",
      "source": [
        "x=torch.arange(10)\n",
        "print(x.unsqueeze(0).shape)\n",
        "print(x.unsqueeze(1).shape)\n",
        "x=torch.arange(10).unsqueeze(0).unsqueeze(1)\n",
        "print(x.shape)\n",
        "z=x.squeeze(1)\n",
        "print(z.shape)\n"
      ],
      "metadata": {
        "colab": {
          "base_uri": "https://localhost:8080/"
        },
        "id": "2Bv7B_PATPpS",
        "outputId": "25967d63-df57-4bd7-862b-690ccea1f602"
      },
      "execution_count": 76,
      "outputs": [
        {
          "output_type": "stream",
          "name": "stdout",
          "text": [
            "torch.Size([1, 10])\n",
            "torch.Size([10, 1])\n",
            "torch.Size([1, 1, 10])\n",
            "torch.Size([1, 10])\n"
          ]
        }
      ]
    }
  ]
}